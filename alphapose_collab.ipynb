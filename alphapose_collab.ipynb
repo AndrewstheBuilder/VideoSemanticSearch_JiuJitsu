{
  "nbformat": 4,
  "nbformat_minor": 0,
  "metadata": {
    "colab": {
      "provenance": [],
      "gpuType": "T4",
      "authorship_tag": "ABX9TyNwZxmjyLwVGqoEq74jKCjc",
      "include_colab_link": true
    },
    "kernelspec": {
      "name": "python3",
      "display_name": "Python 3"
    },
    "language_info": {
      "name": "python"
    },
    "accelerator": "GPU"
  },
  "cells": [
    {
      "cell_type": "markdown",
      "metadata": {
        "id": "view-in-github",
        "colab_type": "text"
      },
      "source": [
        "<a href=\"https://colab.research.google.com/github/AndrewstheBuilder/VideoSemanticSearch_JiuJitsu/blob/main/alphapose_collab.ipynb\" target=\"_parent\"><img src=\"https://colab.research.google.com/assets/colab-badge.svg\" alt=\"Open In Colab\"/></a>"
      ]
    },
    {
      "cell_type": "code",
      "execution_count": 1,
      "metadata": {
        "colab": {
          "base_uri": "https://localhost:8080/"
        },
        "id": "oPjaMOvreh1v",
        "outputId": "17d10240-e8ac-43de-8506-0f87bb45c79b"
      },
      "outputs": [
        {
          "output_type": "stream",
          "name": "stdout",
          "text": [
            "Looking in indexes: https://pypi.org/simple, https://download.pytorch.org/whl/cu113\n",
            "Requirement already satisfied: torch in /usr/local/lib/python3.10/dist-packages (2.4.1+cu121)\n",
            "Requirement already satisfied: torchvision in /usr/local/lib/python3.10/dist-packages (0.19.1+cu121)\n",
            "Requirement already satisfied: filelock in /usr/local/lib/python3.10/dist-packages (from torch) (3.16.1)\n",
            "Requirement already satisfied: typing-extensions>=4.8.0 in /usr/local/lib/python3.10/dist-packages (from torch) (4.12.2)\n",
            "Requirement already satisfied: sympy in /usr/local/lib/python3.10/dist-packages (from torch) (1.13.3)\n",
            "Requirement already satisfied: networkx in /usr/local/lib/python3.10/dist-packages (from torch) (3.4)\n",
            "Requirement already satisfied: jinja2 in /usr/local/lib/python3.10/dist-packages (from torch) (3.1.4)\n",
            "Requirement already satisfied: fsspec in /usr/local/lib/python3.10/dist-packages (from torch) (2024.6.1)\n",
            "Requirement already satisfied: numpy in /usr/local/lib/python3.10/dist-packages (from torchvision) (1.26.4)\n",
            "Requirement already satisfied: pillow!=8.3.*,>=5.3.0 in /usr/local/lib/python3.10/dist-packages (from torchvision) (10.4.0)\n",
            "Requirement already satisfied: MarkupSafe>=2.0 in /usr/local/lib/python3.10/dist-packages (from jinja2->torch) (3.0.1)\n",
            "Requirement already satisfied: mpmath<1.4,>=1.1.0 in /usr/local/lib/python3.10/dist-packages (from sympy->torch) (1.3.0)\n"
          ]
        }
      ],
      "source": [
        "!pip3 install torch torchvision --extra-index-url https://download.pytorch.org/whl/cu113"
      ]
    },
    {
      "cell_type": "code",
      "source": [
        "# 2. Get AlphaPose\n",
        "!git clone https://github.com/MVIG-SJTU/AlphaPose.git\n",
        "!cd AlphaPose\n"
      ],
      "metadata": {
        "colab": {
          "base_uri": "https://localhost:8080/"
        },
        "id": "-vBvP0jOej77",
        "outputId": "88b95516-384a-4f69-8c3b-842f213c1cef"
      },
      "execution_count": 2,
      "outputs": [
        {
          "output_type": "stream",
          "name": "stdout",
          "text": [
            "Cloning into 'AlphaPose'...\n",
            "remote: Enumerating objects: 2749, done.\u001b[K\n",
            "remote: Counting objects: 100% (10/10), done.\u001b[K\n",
            "remote: Compressing objects: 100% (10/10), done.\u001b[K\n",
            "remote: Total 2749 (delta 4), reused 1 (delta 0), pack-reused 2739 (from 1)\u001b[K\n",
            "Receiving objects: 100% (2749/2749), 118.82 MiB | 9.86 MiB/s, done.\n",
            "Resolving deltas: 100% (1379/1379), done.\n"
          ]
        }
      ]
    },
    {
      "cell_type": "code",
      "source": [
        "!export PATH=/usr/local/cuda/bin/:$PATH\n",
        "!export LD_LIBRARY_PATH=/usr/local/cuda/lib64/:$LD_LIBRARY_PATH\n",
        "!pip install cython\n",
        "!sudo apt-get install libyaml-dev"
      ],
      "metadata": {
        "colab": {
          "base_uri": "https://localhost:8080/"
        },
        "id": "r6CHmYD5e1bD",
        "outputId": "bd15daeb-c1d5-4924-f95e-eb27635396fe"
      },
      "execution_count": 3,
      "outputs": [
        {
          "output_type": "stream",
          "name": "stdout",
          "text": [
            "Requirement already satisfied: cython in /usr/local/lib/python3.10/dist-packages (3.0.11)\n",
            "Reading package lists... Done\n",
            "Building dependency tree... Done\n",
            "Reading state information... Done\n",
            "Suggested packages:\n",
            "  libyaml-doc\n",
            "The following NEW packages will be installed:\n",
            "  libyaml-dev\n",
            "0 upgraded, 1 newly installed, 0 to remove and 49 not upgraded.\n",
            "Need to get 62.8 kB of archives.\n",
            "After this operation, 257 kB of additional disk space will be used.\n",
            "Get:1 http://archive.ubuntu.com/ubuntu jammy/main amd64 libyaml-dev amd64 0.2.2-1build2 [62.8 kB]\n",
            "Fetched 62.8 kB in 0s (206 kB/s)\n",
            "debconf: unable to initialize frontend: Dialog\n",
            "debconf: (No usable dialog-like program is installed, so the dialog based frontend cannot be used. at /usr/share/perl5/Debconf/FrontEnd/Dialog.pm line 78, <> line 1.)\n",
            "debconf: falling back to frontend: Readline\n",
            "debconf: unable to initialize frontend: Readline\n",
            "debconf: (This frontend requires a controlling tty.)\n",
            "debconf: falling back to frontend: Teletype\n",
            "dpkg-preconfigure: unable to re-open stdin: \n",
            "Selecting previously unselected package libyaml-dev:amd64.\n",
            "(Reading database ... 123629 files and directories currently installed.)\n",
            "Preparing to unpack .../libyaml-dev_0.2.2-1build2_amd64.deb ...\n",
            "Unpacking libyaml-dev:amd64 (0.2.2-1build2) ...\n",
            "Setting up libyaml-dev:amd64 (0.2.2-1build2) ...\n"
          ]
        }
      ]
    },
    {
      "cell_type": "code",
      "source": [
        "%cd /content/AlphaPose/\n",
        "!python3 setup.py build develop --user"
      ],
      "metadata": {
        "colab": {
          "base_uri": "https://localhost:8080/"
        },
        "id": "JeAO5VvGfZp7",
        "outputId": "3e3c81c2-3395-4627-af7c-e14a21b9e570"
      },
      "execution_count": 4,
      "outputs": [
        {
          "output_type": "stream",
          "name": "stdout",
          "text": [
            "/content/AlphaPose\n",
            "No CUDA runtime is found, using CUDA_HOME='/usr/local/cuda'\n",
            "Compiling detector/nms/src/soft_nms_cpu.pyx because it changed.\n",
            "[1/1] Cythonizing detector/nms/src/soft_nms_cpu.pyx\n",
            "/usr/local/lib/python3.10/dist-packages/setuptools/__init__.py:85: _DeprecatedInstaller: setuptools.installer and fetch_build_eggs are deprecated.\n",
            "!!\n",
            "\n",
            "        ********************************************************************************\n",
            "        Requirements should be satisfied by a PEP 517 installer.\n",
            "        If you are using pip, you can try `pip install --use-pep517`.\n",
            "        ********************************************************************************\n",
            "\n",
            "!!\n",
            "  dist.fetch_build_eggs(dist.setup_requires)\n",
            "running build\n",
            "running build_py\n",
            "creating build\n",
            "creating build/lib.linux-x86_64-cpython-310\n",
            "creating build/lib.linux-x86_64-cpython-310/trackers\n",
            "copying trackers/tracker_cfg.py -> build/lib.linux-x86_64-cpython-310/trackers\n",
            "copying trackers/tracker_api.py -> build/lib.linux-x86_64-cpython-310/trackers\n",
            "copying trackers/__init__.py -> build/lib.linux-x86_64-cpython-310/trackers\n",
            "creating build/lib.linux-x86_64-cpython-310/alphapose\n",
            "copying alphapose/opt.py -> build/lib.linux-x86_64-cpython-310/alphapose\n",
            "copying alphapose/__init__.py -> build/lib.linux-x86_64-cpython-310/alphapose\n",
            "copying alphapose/version.py -> build/lib.linux-x86_64-cpython-310/alphapose\n",
            "creating build/lib.linux-x86_64-cpython-310/trackers/tracking\n",
            "copying trackers/tracking/__init__.py -> build/lib.linux-x86_64-cpython-310/trackers/tracking\n",
            "copying trackers/tracking/matching.py -> build/lib.linux-x86_64-cpython-310/trackers/tracking\n",
            "copying trackers/tracking/basetrack.py -> build/lib.linux-x86_64-cpython-310/trackers/tracking\n",
            "creating build/lib.linux-x86_64-cpython-310/trackers/ReidModels\n",
            "copying trackers/ReidModels/osnet_ain.py -> build/lib.linux-x86_64-cpython-310/trackers/ReidModels\n",
            "copying trackers/ReidModels/bn_linear.py -> build/lib.linux-x86_64-cpython-310/trackers/ReidModels\n",
            "copying trackers/ReidModels/osnet.py -> build/lib.linux-x86_64-cpython-310/trackers/ReidModels\n",
            "copying trackers/ReidModels/resnet_fc.py -> build/lib.linux-x86_64-cpython-310/trackers/ReidModels\n",
            "copying trackers/ReidModels/ResBnLin.py -> build/lib.linux-x86_64-cpython-310/trackers/ReidModels\n",
            "copying trackers/ReidModels/__init__.py -> build/lib.linux-x86_64-cpython-310/trackers/ReidModels\n",
            "copying trackers/ReidModels/net_utils.py -> build/lib.linux-x86_64-cpython-310/trackers/ReidModels\n",
            "copying trackers/ReidModels/ResNet.py -> build/lib.linux-x86_64-cpython-310/trackers/ReidModels\n",
            "creating build/lib.linux-x86_64-cpython-310/trackers/tracking/utils\n",
            "copying trackers/tracking/utils/kalman_filter.py -> build/lib.linux-x86_64-cpython-310/trackers/tracking/utils\n",
            "copying trackers/tracking/utils/parse_config.py -> build/lib.linux-x86_64-cpython-310/trackers/tracking/utils\n",
            "copying trackers/tracking/utils/__init__.py -> build/lib.linux-x86_64-cpython-310/trackers/tracking/utils\n",
            "copying trackers/tracking/utils/timer.py -> build/lib.linux-x86_64-cpython-310/trackers/tracking/utils\n",
            "copying trackers/tracking/utils/nms.py -> build/lib.linux-x86_64-cpython-310/trackers/tracking/utils\n",
            "copying trackers/tracking/utils/io.py -> build/lib.linux-x86_64-cpython-310/trackers/tracking/utils\n",
            "copying trackers/tracking/utils/utils.py -> build/lib.linux-x86_64-cpython-310/trackers/tracking/utils\n",
            "creating build/lib.linux-x86_64-cpython-310/trackers/ReidModels/classification\n",
            "copying trackers/ReidModels/classification/classifier.py -> build/lib.linux-x86_64-cpython-310/trackers/ReidModels/classification\n",
            "copying trackers/ReidModels/classification/__init__.py -> build/lib.linux-x86_64-cpython-310/trackers/ReidModels/classification\n",
            "copying trackers/ReidModels/classification/rfcn_cls.py -> build/lib.linux-x86_64-cpython-310/trackers/ReidModels/classification\n",
            "creating build/lib.linux-x86_64-cpython-310/trackers/ReidModels/reid\n",
            "copying trackers/ReidModels/reid/image_part_aligned.py -> build/lib.linux-x86_64-cpython-310/trackers/ReidModels/reid\n",
            "copying trackers/ReidModels/reid/__init__.py -> build/lib.linux-x86_64-cpython-310/trackers/ReidModels/reid\n",
            "creating build/lib.linux-x86_64-cpython-310/trackers/ReidModels/psroi_pooling\n",
            "copying trackers/ReidModels/psroi_pooling/__init__.py -> build/lib.linux-x86_64-cpython-310/trackers/ReidModels/psroi_pooling\n",
            "copying trackers/ReidModels/psroi_pooling/build.py -> build/lib.linux-x86_64-cpython-310/trackers/ReidModels/psroi_pooling\n",
            "creating build/lib.linux-x86_64-cpython-310/trackers/ReidModels/backbone\n",
            "copying trackers/ReidModels/backbone/googlenet.py -> build/lib.linux-x86_64-cpython-310/trackers/ReidModels/backbone\n",
            "copying trackers/ReidModels/backbone/__init__.py -> build/lib.linux-x86_64-cpython-310/trackers/ReidModels/backbone\n",
            "copying trackers/ReidModels/backbone/sqeezenet.py -> build/lib.linux-x86_64-cpython-310/trackers/ReidModels/backbone\n",
            "copying trackers/ReidModels/backbone/lrn.py -> build/lib.linux-x86_64-cpython-310/trackers/ReidModels/backbone\n",
            "creating build/lib.linux-x86_64-cpython-310/trackers/ReidModels/psroi_pooling/functions\n",
            "copying trackers/ReidModels/psroi_pooling/functions/psroi_pooling.py -> build/lib.linux-x86_64-cpython-310/trackers/ReidModels/psroi_pooling/functions\n",
            "copying trackers/ReidModels/psroi_pooling/functions/__init__.py -> build/lib.linux-x86_64-cpython-310/trackers/ReidModels/psroi_pooling/functions\n",
            "creating build/lib.linux-x86_64-cpython-310/trackers/ReidModels/psroi_pooling/_ext\n",
            "copying trackers/ReidModels/psroi_pooling/_ext/__init__.py -> build/lib.linux-x86_64-cpython-310/trackers/ReidModels/psroi_pooling/_ext\n",
            "creating build/lib.linux-x86_64-cpython-310/trackers/ReidModels/psroi_pooling/modules\n",
            "copying trackers/ReidModels/psroi_pooling/modules/__init__.py -> build/lib.linux-x86_64-cpython-310/trackers/ReidModels/psroi_pooling/modules\n",
            "copying trackers/ReidModels/psroi_pooling/modules/psroi_pool.py -> build/lib.linux-x86_64-cpython-310/trackers/ReidModels/psroi_pooling/modules\n",
            "creating build/lib.linux-x86_64-cpython-310/trackers/ReidModels/psroi_pooling/_ext/psroi_pooling\n",
            "copying trackers/ReidModels/psroi_pooling/_ext/psroi_pooling/__init__.py -> build/lib.linux-x86_64-cpython-310/trackers/ReidModels/psroi_pooling/_ext/psroi_pooling\n",
            "creating build/lib.linux-x86_64-cpython-310/alphapose/utils\n",
            "copying alphapose/utils/detector.py -> build/lib.linux-x86_64-cpython-310/alphapose/utils\n",
            "copying alphapose/utils/bbox.py -> build/lib.linux-x86_64-cpython-310/alphapose/utils\n",
            "copying alphapose/utils/file_detector.py -> build/lib.linux-x86_64-cpython-310/alphapose/utils\n",
            "copying alphapose/utils/env.py -> build/lib.linux-x86_64-cpython-310/alphapose/utils\n",
            "copying alphapose/utils/logger.py -> build/lib.linux-x86_64-cpython-310/alphapose/utils\n",
            "copying alphapose/utils/vis.py -> build/lib.linux-x86_64-cpython-310/alphapose/utils\n",
            "copying alphapose/utils/render_pytorch3d.py -> build/lib.linux-x86_64-cpython-310/alphapose/utils\n",
            "copying alphapose/utils/writer_smpl.py -> build/lib.linux-x86_64-cpython-310/alphapose/utils\n",
            "copying alphapose/utils/writer.py -> build/lib.linux-x86_64-cpython-310/alphapose/utils\n",
            "copying alphapose/utils/webcam_detector.py -> build/lib.linux-x86_64-cpython-310/alphapose/utils\n",
            "copying alphapose/utils/__init__.py -> build/lib.linux-x86_64-cpython-310/alphapose/utils\n",
            "copying alphapose/utils/config.py -> build/lib.linux-x86_64-cpython-310/alphapose/utils\n",
            "copying alphapose/utils/registry.py -> build/lib.linux-x86_64-cpython-310/alphapose/utils\n",
            "copying alphapose/utils/transforms.py -> build/lib.linux-x86_64-cpython-310/alphapose/utils\n",
            "copying alphapose/utils/pPose_nms.py -> build/lib.linux-x86_64-cpython-310/alphapose/utils\n",
            "copying alphapose/utils/metrics.py -> build/lib.linux-x86_64-cpython-310/alphapose/utils\n",
            "creating build/lib.linux-x86_64-cpython-310/alphapose/datasets\n",
            "copying alphapose/datasets/halpe_68_noface_det.py -> build/lib.linux-x86_64-cpython-310/alphapose/datasets\n",
            "copying alphapose/datasets/halpe_coco_wholebody_26_det.py -> build/lib.linux-x86_64-cpython-310/alphapose/datasets\n",
            "copying alphapose/datasets/single_hand_det.py -> build/lib.linux-x86_64-cpython-310/alphapose/datasets\n",
            "copying alphapose/datasets/custom.py -> build/lib.linux-x86_64-cpython-310/alphapose/datasets\n",
            "copying alphapose/datasets/single_hand.py -> build/lib.linux-x86_64-cpython-310/alphapose/datasets\n",
            "copying alphapose/datasets/halpe_68_noface.py -> build/lib.linux-x86_64-cpython-310/alphapose/datasets\n",
            "copying alphapose/datasets/halpe_26_det.py -> build/lib.linux-x86_64-cpython-310/alphapose/datasets\n",
            "copying alphapose/datasets/coco_wholebody_det.py -> build/lib.linux-x86_64-cpython-310/alphapose/datasets\n",
            "copying alphapose/datasets/halpe_136_det.py -> build/lib.linux-x86_64-cpython-310/alphapose/datasets\n",
            "copying alphapose/datasets/__init__.py -> build/lib.linux-x86_64-cpython-310/alphapose/datasets\n",
            "copying alphapose/datasets/mpii.py -> build/lib.linux-x86_64-cpython-310/alphapose/datasets\n",
            "copying alphapose/datasets/halpe_coco_wholebody_136.py -> build/lib.linux-x86_64-cpython-310/alphapose/datasets\n",
            "copying alphapose/datasets/halpe_26.py -> build/lib.linux-x86_64-cpython-310/alphapose/datasets\n",
            "copying alphapose/datasets/halpe_coco_wholebody_26.py -> build/lib.linux-x86_64-cpython-310/alphapose/datasets\n",
            "copying alphapose/datasets/mscoco.py -> build/lib.linux-x86_64-cpython-310/alphapose/datasets\n",
            "copying alphapose/datasets/concat_dataset.py -> build/lib.linux-x86_64-cpython-310/alphapose/datasets\n",
            "copying alphapose/datasets/halpe_136.py -> build/lib.linux-x86_64-cpython-310/alphapose/datasets\n",
            "copying alphapose/datasets/coco_det.py -> build/lib.linux-x86_64-cpython-310/alphapose/datasets\n",
            "copying alphapose/datasets/halpe_coco_wholebody_136_det.py -> build/lib.linux-x86_64-cpython-310/alphapose/datasets\n",
            "copying alphapose/datasets/coco_wholebody.py -> build/lib.linux-x86_64-cpython-310/alphapose/datasets\n",
            "creating build/lib.linux-x86_64-cpython-310/alphapose/models\n",
            "copying alphapose/models/fastpose_duc_dense.py -> build/lib.linux-x86_64-cpython-310/alphapose/models\n",
            "copying alphapose/models/simple3dposeSMPLWithCam.py -> build/lib.linux-x86_64-cpython-310/alphapose/models\n",
            "copying alphapose/models/criterion.py -> build/lib.linux-x86_64-cpython-310/alphapose/models\n",
            "copying alphapose/models/builder.py -> build/lib.linux-x86_64-cpython-310/alphapose/models\n",
            "copying alphapose/models/fastpose_duc.py -> build/lib.linux-x86_64-cpython-310/alphapose/models\n",
            "copying alphapose/models/__init__.py -> build/lib.linux-x86_64-cpython-310/alphapose/models\n",
            "copying alphapose/models/hardnet.py -> build/lib.linux-x86_64-cpython-310/alphapose/models\n",
            "copying alphapose/models/hrnet.py -> build/lib.linux-x86_64-cpython-310/alphapose/models\n",
            "copying alphapose/models/fastpose.py -> build/lib.linux-x86_64-cpython-310/alphapose/models\n",
            "copying alphapose/models/simplepose.py -> build/lib.linux-x86_64-cpython-310/alphapose/models\n",
            "creating build/lib.linux-x86_64-cpython-310/alphapose/utils/presets\n",
            "copying alphapose/utils/presets/simple_transform.py -> build/lib.linux-x86_64-cpython-310/alphapose/utils/presets\n",
            "copying alphapose/utils/presets/__init__.py -> build/lib.linux-x86_64-cpython-310/alphapose/utils/presets\n",
            "copying alphapose/utils/presets/simple_transform_3d_smpl.py -> build/lib.linux-x86_64-cpython-310/alphapose/utils/presets\n",
            "creating build/lib.linux-x86_64-cpython-310/alphapose/utils/roi_align\n",
            "copying alphapose/utils/roi_align/roi_align.py -> build/lib.linux-x86_64-cpython-310/alphapose/utils/roi_align\n",
            "copying alphapose/utils/roi_align/__init__.py -> build/lib.linux-x86_64-cpython-310/alphapose/utils/roi_align\n",
            "running build_ext\n",
            "/usr/local/lib/python3.10/dist-packages/torch/utils/cpp_extension.py:495: UserWarning: Attempted to use ninja as the BuildExtension backend but we could not find ninja.. Falling back to using the slow distutils backend.\n",
            "  warnings.warn(msg.format('we could not find ninja.'))\n",
            "/usr/local/lib/python3.10/dist-packages/torch/utils/cpp_extension.py:414: UserWarning: The detected CUDA version (12.2) has a minor version mismatch with the version that was used to compile PyTorch (12.1). Most likely this shouldn't be a problem.\n",
            "  warnings.warn(CUDA_MISMATCH_WARN.format(cuda_str_version, torch.version.cuda))\n",
            "/usr/local/lib/python3.10/dist-packages/torch/utils/cpp_extension.py:424: UserWarning: There are no x86_64-linux-gnu-g++ version bounds defined for CUDA version 12.2\n",
            "  warnings.warn(f'There are no {compiler_name} version bounds defined for CUDA version {cuda_str_version}')\n",
            "building 'detector.nms.soft_nms_cpu' extension\n",
            "creating build/temp.linux-x86_64-cpython-310\n",
            "creating build/temp.linux-x86_64-cpython-310/detector\n",
            "creating build/temp.linux-x86_64-cpython-310/detector/nms\n",
            "creating build/temp.linux-x86_64-cpython-310/detector/nms/src\n",
            "x86_64-linux-gnu-gcc -Wno-unused-result -Wsign-compare -DNDEBUG -g -fwrapv -O2 -Wall -g -fstack-protector-strong -Wformat -Werror=format-security -g -fwrapv -O2 -fPIC -I/usr/local/lib/python3.10/dist-packages/numpy/core/include -I/usr/include/python3.10 -c detector/nms/src/soft_nms_cpu.cpp -o build/temp.linux-x86_64-cpython-310/detector/nms/src/soft_nms_cpu.o -Wno-unused-function -Wno-write-strings -DTORCH_API_INCLUDE_EXTENSION_H -DPYBIND11_COMPILER_TYPE=\\\"_gcc\\\" -DPYBIND11_STDLIB=\\\"_libstdcpp\\\" -DPYBIND11_BUILD_ABI=\\\"_cxxabi1011\\\" -DTORCH_EXTENSION_NAME=soft_nms_cpu -D_GLIBCXX_USE_CXX11_ABI=0 -std=c++17\n",
            "In file included from \u001b[01m\u001b[K/usr/local/lib/python3.10/dist-packages/numpy/core/include/numpy/ndarraytypes.h:1929\u001b[m\u001b[K,\n",
            "                 from \u001b[01m\u001b[K/usr/local/lib/python3.10/dist-packages/numpy/core/include/numpy/ndarrayobject.h:12\u001b[m\u001b[K,\n",
            "                 from \u001b[01m\u001b[K/usr/local/lib/python3.10/dist-packages/numpy/core/include/numpy/arrayobject.h:5\u001b[m\u001b[K,\n",
            "                 from \u001b[01m\u001b[Kdetector/nms/src/soft_nms_cpu.cpp:1268\u001b[m\u001b[K:\n",
            "\u001b[01m\u001b[K/usr/local/lib/python3.10/dist-packages/numpy/core/include/numpy/npy_1_7_deprecated_api.h:17:2:\u001b[m\u001b[K \u001b[01;35m\u001b[Kwarning: \u001b[m\u001b[K#warning \"Using deprecated NumPy API, disable it with \" \"#define NPY_NO_DEPRECATED_API NPY_1_7_API_VERSION\" [\u001b[01;35m\u001b[K\u001b]8;;https://gcc.gnu.org/onlinedocs/gcc/Warning-Options.html#index-Wcpp\u0007-Wcpp\u001b]8;;\u0007\u001b[m\u001b[K]\n",
            "   17 | #\u001b[01;35m\u001b[Kwarning\u001b[m\u001b[K \"Using deprecated NumPy API, disable it with \" \\\n",
            "      |  \u001b[01;35m\u001b[K^~~~~~~\u001b[m\u001b[K\n",
            "creating build/lib.linux-x86_64-cpython-310/detector\n",
            "creating build/lib.linux-x86_64-cpython-310/detector/nms\n",
            "x86_64-linux-gnu-g++ -shared -Wl,-O1 -Wl,-Bsymbolic-functions -Wl,-Bsymbolic-functions -g -fwrapv -O2 build/temp.linux-x86_64-cpython-310/detector/nms/src/soft_nms_cpu.o -L/usr/lib/x86_64-linux-gnu -o build/lib.linux-x86_64-cpython-310/detector/nms/soft_nms_cpu.cpython-310-x86_64-linux-gnu.so\n",
            "building 'detector.nms.nms_cpu' extension\n",
            "x86_64-linux-gnu-gcc -Wno-unused-result -Wsign-compare -DNDEBUG -g -fwrapv -O2 -Wall -g -fstack-protector-strong -Wformat -Werror=format-security -g -fwrapv -O2 -fPIC -I/usr/local/lib/python3.10/dist-packages/torch/include -I/usr/local/lib/python3.10/dist-packages/torch/include/torch/csrc/api/include -I/usr/local/lib/python3.10/dist-packages/torch/include/TH -I/usr/local/lib/python3.10/dist-packages/torch/include/THC -I/usr/local/cuda/include -I/usr/include/python3.10 -c detector/nms/src/nms_cpu.cpp -o build/temp.linux-x86_64-cpython-310/detector/nms/src/nms_cpu.o -DTORCH_API_INCLUDE_EXTENSION_H -DPYBIND11_COMPILER_TYPE=\\\"_gcc\\\" -DPYBIND11_STDLIB=\\\"_libstdcpp\\\" -DPYBIND11_BUILD_ABI=\\\"_cxxabi1011\\\" -DTORCH_EXTENSION_NAME=nms_cpu -D_GLIBCXX_USE_CXX11_ABI=0 -std=c++17\n",
            "x86_64-linux-gnu-g++ -shared -Wl,-O1 -Wl,-Bsymbolic-functions -Wl,-Bsymbolic-functions -g -fwrapv -O2 build/temp.linux-x86_64-cpython-310/detector/nms/src/nms_cpu.o -L/usr/local/lib/python3.10/dist-packages/torch/lib -L/usr/local/cuda/lib64 -L/usr/lib/x86_64-linux-gnu -lc10 -ltorch -ltorch_cpu -ltorch_python -lcudart -lc10_cuda -ltorch_cuda -o build/lib.linux-x86_64-cpython-310/detector/nms/nms_cpu.cpython-310-x86_64-linux-gnu.so\n",
            "building 'detector.nms.nms_cuda' extension\n",
            "x86_64-linux-gnu-gcc -Wno-unused-result -Wsign-compare -DNDEBUG -g -fwrapv -O2 -Wall -g -fstack-protector-strong -Wformat -Werror=format-security -g -fwrapv -O2 -fPIC -I/usr/local/lib/python3.10/dist-packages/torch/include -I/usr/local/lib/python3.10/dist-packages/torch/include/torch/csrc/api/include -I/usr/local/lib/python3.10/dist-packages/torch/include/TH -I/usr/local/lib/python3.10/dist-packages/torch/include/THC -I/usr/local/cuda/include -I/usr/include/python3.10 -c detector/nms/src/nms_cuda.cpp -o build/temp.linux-x86_64-cpython-310/detector/nms/src/nms_cuda.o -DTORCH_API_INCLUDE_EXTENSION_H -DPYBIND11_COMPILER_TYPE=\\\"_gcc\\\" -DPYBIND11_STDLIB=\\\"_libstdcpp\\\" -DPYBIND11_BUILD_ABI=\\\"_cxxabi1011\\\" -DTORCH_EXTENSION_NAME=nms_cuda -D_GLIBCXX_USE_CXX11_ABI=0 -std=c++17\n",
            "/usr/local/lib/python3.10/dist-packages/torch/utils/cpp_extension.py:1965: UserWarning: TORCH_CUDA_ARCH_LIST is not set, all archs for visible cards are included for compilation. \n",
            "If this is not desired, please set os.environ['TORCH_CUDA_ARCH_LIST'].\n",
            "  warnings.warn(\n",
            "Traceback (most recent call last):\n",
            "  File \"/content/AlphaPose/setup.py\", line 187, in <module>\n",
            "    setup(\n",
            "  File \"/usr/local/lib/python3.10/dist-packages/setuptools/__init__.py\", line 108, in setup\n",
            "    return distutils.core.setup(**attrs)\n",
            "  File \"/usr/local/lib/python3.10/dist-packages/setuptools/_distutils/core.py\", line 184, in setup\n",
            "    return run_commands(dist)\n",
            "  File \"/usr/local/lib/python3.10/dist-packages/setuptools/_distutils/core.py\", line 200, in run_commands\n",
            "    dist.run_commands()\n",
            "  File \"/usr/local/lib/python3.10/dist-packages/setuptools/_distutils/dist.py\", line 970, in run_commands\n",
            "    self.run_command(cmd)\n",
            "  File \"/usr/local/lib/python3.10/dist-packages/setuptools/dist.py\", line 956, in run_command\n",
            "    super().run_command(command)\n",
            "  File \"/usr/local/lib/python3.10/dist-packages/setuptools/_distutils/dist.py\", line 989, in run_command\n",
            "    cmd_obj.run()\n",
            "  File \"/usr/local/lib/python3.10/dist-packages/setuptools/_distutils/command/build.py\", line 135, in run\n",
            "    self.run_command(cmd_name)\n",
            "  File \"/usr/local/lib/python3.10/dist-packages/setuptools/_distutils/cmd.py\", line 316, in run_command\n",
            "    self.distribution.run_command(command)\n",
            "  File \"/usr/local/lib/python3.10/dist-packages/setuptools/dist.py\", line 956, in run_command\n",
            "    super().run_command(command)\n",
            "  File \"/usr/local/lib/python3.10/dist-packages/setuptools/_distutils/dist.py\", line 989, in run_command\n",
            "    cmd_obj.run()\n",
            "  File \"/usr/local/lib/python3.10/dist-packages/setuptools/command/build_ext.py\", line 93, in run\n",
            "    _build_ext.run(self)\n",
            "  File \"/usr/local/lib/python3.10/dist-packages/setuptools/_distutils/command/build_ext.py\", line 359, in run\n",
            "    self.build_extensions()\n",
            "  File \"/usr/local/lib/python3.10/dist-packages/torch/utils/cpp_extension.py\", line 866, in build_extensions\n",
            "    build_ext.build_extensions(self)\n",
            "  File \"/usr/local/lib/python3.10/dist-packages/setuptools/_distutils/command/build_ext.py\", line 479, in build_extensions\n",
            "    self._build_extensions_serial()\n",
            "  File \"/usr/local/lib/python3.10/dist-packages/setuptools/_distutils/command/build_ext.py\", line 505, in _build_extensions_serial\n",
            "    self.build_extension(ext)\n",
            "  File \"/usr/local/lib/python3.10/dist-packages/setuptools/command/build_ext.py\", line 254, in build_extension\n",
            "    _build_ext.build_extension(self, ext)\n",
            "  File \"/usr/local/lib/python3.10/dist-packages/Cython/Distutils/build_ext.py\", line 135, in build_extension\n",
            "    super(build_ext, self).build_extension(ext)\n",
            "  File \"/usr/local/lib/python3.10/dist-packages/setuptools/_distutils/command/build_ext.py\", line 560, in build_extension\n",
            "    objects = self.compiler.compile(\n",
            "  File \"/usr/local/lib/python3.10/dist-packages/setuptools/_distutils/ccompiler.py\", line 605, in compile\n",
            "    self._compile(obj, src, ext, cc_args, extra_postargs, pp_opts)\n",
            "  File \"/usr/local/lib/python3.10/dist-packages/torch/utils/cpp_extension.py\", line 602, in unix_wrap_single_compile\n",
            "    cflags = unix_cuda_flags(cflags)\n",
            "  File \"/usr/local/lib/python3.10/dist-packages/torch/utils/cpp_extension.py\", line 569, in unix_cuda_flags\n",
            "    cflags + _get_cuda_arch_flags(cflags))\n",
            "  File \"/usr/local/lib/python3.10/dist-packages/torch/utils/cpp_extension.py\", line 1985, in _get_cuda_arch_flags\n",
            "    arch_list[-1] += '+PTX'\n",
            "IndexError: list index out of range\n"
          ]
        }
      ]
    },
    {
      "cell_type": "code",
      "source": [
        "# Install Yolo3 Weights\n",
        "!pip install gdown\n",
        "import gdown\n",
        "# https://drive.usercontent.google.com/download?id=1D47msNOOiJKvPOXlnpyzdKA3k6E97NTC&export=download&authuser=0\n",
        "\n",
        "file_id = '1D47msNOOiJKvPOXlnpyzdKA3k6E97NTC'  # Replace with the actual file ID\n",
        "gdown.download(f\"https://drive.google.com/uc?export=download&id={file_id}\", output=\"yolov3-spp.weights\", quiet=False)\n"
      ],
      "metadata": {
        "colab": {
          "base_uri": "https://localhost:8080/",
          "height": 341
        },
        "id": "-HpVfg4_igEa",
        "outputId": "7f891170-ca67-4b99-c0b2-5a1a5adb5c39"
      },
      "execution_count": 5,
      "outputs": [
        {
          "output_type": "stream",
          "name": "stdout",
          "text": [
            "Requirement already satisfied: gdown in /usr/local/lib/python3.10/dist-packages (5.2.0)\n",
            "Requirement already satisfied: beautifulsoup4 in /usr/local/lib/python3.10/dist-packages (from gdown) (4.12.3)\n",
            "Requirement already satisfied: filelock in /usr/local/lib/python3.10/dist-packages (from gdown) (3.16.1)\n",
            "Requirement already satisfied: requests[socks] in /usr/local/lib/python3.10/dist-packages (from gdown) (2.32.3)\n",
            "Requirement already satisfied: tqdm in /usr/local/lib/python3.10/dist-packages (from gdown) (4.66.5)\n",
            "Requirement already satisfied: soupsieve>1.2 in /usr/local/lib/python3.10/dist-packages (from beautifulsoup4->gdown) (2.6)\n",
            "Requirement already satisfied: charset-normalizer<4,>=2 in /usr/local/lib/python3.10/dist-packages (from requests[socks]->gdown) (3.4.0)\n",
            "Requirement already satisfied: idna<4,>=2.5 in /usr/local/lib/python3.10/dist-packages (from requests[socks]->gdown) (3.10)\n",
            "Requirement already satisfied: urllib3<3,>=1.21.1 in /usr/local/lib/python3.10/dist-packages (from requests[socks]->gdown) (2.2.3)\n",
            "Requirement already satisfied: certifi>=2017.4.17 in /usr/local/lib/python3.10/dist-packages (from requests[socks]->gdown) (2024.8.30)\n",
            "Requirement already satisfied: PySocks!=1.5.7,>=1.5.6 in /usr/local/lib/python3.10/dist-packages (from requests[socks]->gdown) (1.7.1)\n"
          ]
        },
        {
          "output_type": "stream",
          "name": "stderr",
          "text": [
            "Downloading...\n",
            "From (original): https://drive.google.com/uc?export=download&id=1D47msNOOiJKvPOXlnpyzdKA3k6E97NTC\n",
            "From (redirected): https://drive.google.com/uc?export=download&id=1D47msNOOiJKvPOXlnpyzdKA3k6E97NTC&confirm=t&uuid=cfa977ac-9269-47cb-b127-5d476c4d54e2\n",
            "To: /content/AlphaPose/yolov3-spp.weights\n",
            "100%|██████████| 252M/252M [00:01<00:00, 148MB/s]\n"
          ]
        },
        {
          "output_type": "execute_result",
          "data": {
            "text/plain": [
              "'yolov3-spp.weights'"
            ],
            "application/vnd.google.colaboratory.intrinsic+json": {
              "type": "string"
            }
          },
          "metadata": {},
          "execution_count": 5
        }
      ]
    },
    {
      "cell_type": "code",
      "source": [
        "# Move yolov3 weights into appropriate directory\n",
        "!mkdir ./detector/yolo/data\n",
        "!mv yolov3-spp.weights ./detector/yolo/data"
      ],
      "metadata": {
        "id": "k7h-ZRaWi4mA"
      },
      "execution_count": 6,
      "outputs": []
    },
    {
      "cell_type": "code",
      "source": [
        "# Download and move baseline Pose Model into right directory\n",
        "# https://drive.google.com/file/d/1nxyfUbvWDaaT9eDM7Y31ScSVPlGy6gfw/view\n",
        "file_id = '1nxyfUbvWDaaT9eDM7Y31ScSVPlGy6gfw'  # Replace with the actual file ID\n",
        "gdown.download(f\"https://drive.google.com/uc?export=download&id={file_id}\", output=\"simple_res50_256x192.pth\", quiet=False)\n",
        "!mv simple_res50_256x192.pth ./pretrained_models"
      ],
      "metadata": {
        "colab": {
          "base_uri": "https://localhost:8080/"
        },
        "id": "RQtw6FYfjhGw",
        "outputId": "04685ed1-c8a4-441d-f039-e3642582bbdb"
      },
      "execution_count": 7,
      "outputs": [
        {
          "output_type": "stream",
          "name": "stderr",
          "text": [
            "Downloading...\n",
            "From (original): https://drive.google.com/uc?export=download&id=1nxyfUbvWDaaT9eDM7Y31ScSVPlGy6gfw\n",
            "From (redirected): https://drive.google.com/uc?export=download&id=1nxyfUbvWDaaT9eDM7Y31ScSVPlGy6gfw&confirm=t&uuid=7394a812-9e67-4a88-84e7-1783799f7e6e\n",
            "To: /content/AlphaPose/simple_res50_256x192.pth\n",
            "100%|██████████| 136M/136M [00:00<00:00, 141MB/s]\n"
          ]
        }
      ]
    },
    {
      "cell_type": "code",
      "source": [
        "# Download and move Pose tracker model into right directory\n",
        "# https://drive.google.com/file/d/1myNKfr2cXqiHZVXaaG8ZAq_U2UpeOLfG/view\n",
        "file_id = '1myNKfr2cXqiHZVXaaG8ZAq_U2UpeOLfG'  # Replace with the actual file ID\n",
        "gdown.download(f\"https://drive.google.com/uc?export=download&id={file_id}\", output=\"osnet_ain_x1_0_msmt17_256x128_amsgrad_ep50_lr0.0015_coslr_b64_fb10_softmax_labsmth_flip_jitter.pth\", quiet=False)"
      ],
      "metadata": {
        "colab": {
          "base_uri": "https://localhost:8080/",
          "height": 127
        },
        "id": "ocjnBLAEj2d-",
        "outputId": "6e4f26c2-ca62-483e-9757-1838ec3a976e"
      },
      "execution_count": 8,
      "outputs": [
        {
          "output_type": "stream",
          "name": "stderr",
          "text": [
            "Downloading...\n",
            "From: https://drive.google.com/uc?export=download&id=1myNKfr2cXqiHZVXaaG8ZAq_U2UpeOLfG\n",
            "To: /content/AlphaPose/osnet_ain_x1_0_msmt17_256x128_amsgrad_ep50_lr0.0015_coslr_b64_fb10_softmax_labsmth_flip_jitter.pth\n",
            "100%|██████████| 17.3M/17.3M [00:00<00:00, 81.7MB/s]\n"
          ]
        },
        {
          "output_type": "execute_result",
          "data": {
            "text/plain": [
              "'osnet_ain_x1_0_msmt17_256x128_amsgrad_ep50_lr0.0015_coslr_b64_fb10_softmax_labsmth_flip_jitter.pth'"
            ],
            "application/vnd.google.colaboratory.intrinsic+json": {
              "type": "string"
            }
          },
          "metadata": {},
          "execution_count": 8
        }
      ]
    },
    {
      "cell_type": "code",
      "source": [
        "!mkdir trackers/weights\n",
        "!mv osnet.pth ./trackers/weights/"
      ],
      "metadata": {
        "id": "A07jsggjq5q2",
        "outputId": "2bd7594d-11ea-496b-96a5-310ed4add3a6",
        "colab": {
          "base_uri": "https://localhost:8080/"
        }
      },
      "execution_count": 9,
      "outputs": [
        {
          "output_type": "stream",
          "name": "stdout",
          "text": [
            "mv: cannot stat 'osnet.pth': No such file or directory\n"
          ]
        }
      ]
    },
    {
      "cell_type": "code",
      "source": [
        "!pip install cython-bbox"
      ],
      "metadata": {
        "colab": {
          "base_uri": "https://localhost:8080/"
        },
        "id": "v0p_6DFwvtlW",
        "outputId": "06f6fff8-1329-43d2-ac94-34e57e9b422f"
      },
      "execution_count": 10,
      "outputs": [
        {
          "output_type": "stream",
          "name": "stdout",
          "text": [
            "Collecting cython-bbox\n",
            "  Downloading cython_bbox-0.1.5.tar.gz (4.4 kB)\n",
            "  Preparing metadata (setup.py) ... \u001b[?25l\u001b[?25hdone\n",
            "Requirement already satisfied: Cython in /usr/local/lib/python3.10/dist-packages (from cython-bbox) (3.0.11)\n",
            "Requirement already satisfied: numpy in /usr/local/lib/python3.10/dist-packages (from cython-bbox) (1.26.4)\n",
            "Building wheels for collected packages: cython-bbox\n",
            "  Building wheel for cython-bbox (setup.py) ... \u001b[?25l\u001b[?25hdone\n",
            "  Created wheel for cython-bbox: filename=cython_bbox-0.1.5-cp310-cp310-linux_x86_64.whl size=99103 sha256=b70ca24ff74ffbc82d964991c0300d92d73e82943597242ff1d2c38ed65221f8\n",
            "  Stored in directory: /root/.cache/pip/wheels/c0/b7/68/bab98b7180cda501101a57fb7d36884218ad45ec60c27cd679\n",
            "Successfully built cython-bbox\n",
            "Installing collected packages: cython-bbox\n",
            "Successfully installed cython-bbox-0.1.5\n"
          ]
        }
      ]
    },
    {
      "cell_type": "code",
      "source": [
        "import torch\n",
        "print(torch.__version__)"
      ],
      "metadata": {
        "colab": {
          "base_uri": "https://localhost:8080/"
        },
        "id": "ZjINffgh7JIl",
        "outputId": "2033acaf-380a-41b7-fb51-86a5a5213faa"
      },
      "execution_count": 11,
      "outputs": [
        {
          "output_type": "stream",
          "name": "stdout",
          "text": [
            "2.4.1+cu121\n"
          ]
        }
      ]
    },
    {
      "cell_type": "code",
      "source": [
        "!mkdir /content/AlphaPose/img_dir\n",
        "!mkdir /content/AlphaPose/output_dir"
      ],
      "metadata": {
        "id": "-MbiS9mVTKzS"
      },
      "execution_count": 12,
      "outputs": []
    },
    {
      "cell_type": "code",
      "source": [
        "!ls"
      ],
      "metadata": {
        "colab": {
          "base_uri": "https://localhost:8080/"
        },
        "id": "cZ45QzqdVBRV",
        "outputId": "5d0bfbaa-e9e8-4fea-c518-536b01c84264"
      },
      "execution_count": 13,
      "outputs": [
        {
          "output_type": "stream",
          "name": "stdout",
          "text": [
            "alphapose\n",
            "build\n",
            "configs\n",
            "detector\n",
            "docs\n",
            "examples\n",
            "img_dir\n",
            "LICENSE\n",
            "model_files\n",
            "osnet_ain_x1_0_msmt17_256x128_amsgrad_ep50_lr0.0015_coslr_b64_fb10_softmax_labsmth_flip_jitter.pth\n",
            "output_dir\n",
            "pretrained_models\n",
            "README.md\n",
            "scripts\n",
            "setup.cfg\n",
            "setup.py\n",
            "trackers\n"
          ]
        }
      ]
    },
    {
      "cell_type": "code",
      "source": [
        "# alpha pose through webcam\n",
        "# !ls\n",
        "cfg_file='configs/coco/resnet/256x192_res50_lr1e-3_1x.yaml'\n",
        "trained_model='pretrained_models/simple_res50_256x192.pth'\n",
        "img_directory='img_dir/video_1_frame_0960.jpg'\n",
        "output_directory='output_dir'\n",
        "# can't open webcam from google collab.\n",
        "# !python scripts/demo_inference.py --cfg {cfg_file} --checkpoint {trained_model} --outdir examples/res --vis --webcam 0\n",
        "!python scripts/demo_inference.py --cfg {cfg_file} --checkpoint {trained_model} --image {img_directory} --outdir {output_directory} --save_img --pose_track\n",
        "\n"
      ],
      "metadata": {
        "colab": {
          "base_uri": "https://localhost:8080/"
        },
        "id": "Zfg_Un0MvFb0",
        "outputId": "f090efbf-0c33-462d-f098-b1ccd6bebc17"
      },
      "execution_count": 17,
      "outputs": [
        {
          "output_type": "stream",
          "name": "stdout",
          "text": [
            "Traceback (most recent call last):\n",
            "  File \"/content/AlphaPose/scripts/demo_inference.py\", line 13, in <module>\n",
            "    from detector.apis import get_detector\n",
            "ModuleNotFoundError: No module named 'detector'\n"
          ]
        }
      ]
    }
  ]
}